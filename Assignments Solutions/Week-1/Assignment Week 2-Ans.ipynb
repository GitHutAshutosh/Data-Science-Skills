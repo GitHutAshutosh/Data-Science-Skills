{
 "cells": [
  {
   "cell_type": "markdown",
   "id": "95adad58-6291-4616-af6d-62784f0947a9",
   "metadata": {},
   "source": [
    "Assignment Week-2 Solutions"
   ]
  },
  {
   "cell_type": "markdown",
   "id": "8a12e799-d89b-4efc-8a29-e0f17e210279",
   "metadata": {},
   "source": [
    "Q-1"
   ]
  },
  {
   "cell_type": "code",
   "execution_count": 1,
   "id": "769f1cae-050b-488d-be13-5c7f6983357b",
   "metadata": {},
   "outputs": [],
   "source": [
    "# Q-1:\n",
    "#     How do you comment code in Python? What are the different types of comments?"
   ]
  },
  {
   "cell_type": "code",
   "execution_count": 3,
   "id": "6308f43e-3523-454f-8243-1af06890b491",
   "metadata": {},
   "outputs": [
    {
     "data": {
      "text/plain": [
       "'PW Skills is best Platform. \\nThey will provide best content at low cost.\\nThey will always support you in any situation like a Family.'"
      ]
     },
     "execution_count": 3,
     "metadata": {},
     "output_type": "execute_result"
    }
   ],
   "source": [
    "# Ans-1\n",
    "#1-Using #\n",
    "#ASHUTOSH RANA\n",
    "\n",
    "#2-Using multi line comment \"\"\" \"\"\"\n",
    "\n",
    "\"\"\"PW Skills is best Platform. \n",
    "They will provide best content at low cost.\n",
    "They will always support you in any situation like a Family.\"\"\""
   ]
  },
  {
   "cell_type": "markdown",
   "id": "4a8a328a-1859-45f2-902f-eae1506d0b3c",
   "metadata": {},
   "source": [
    "Q-2"
   ]
  },
  {
   "cell_type": "code",
   "execution_count": 4,
   "id": "2fefe90e-33b7-4f2c-885a-9e6f43f84733",
   "metadata": {},
   "outputs": [],
   "source": [
    "# Q-2:What are variables in Python? How do you declare and assign values to variables?"
   ]
  },
  {
   "cell_type": "code",
   "execution_count": 5,
   "id": "f2364559-f1b0-42a1-a2f7-1f4e44a86120",
   "metadata": {},
   "outputs": [
    {
     "data": {
      "text/plain": [
       "'1-Variables are used to store value.\\n2-It help to use that value whenever we need by using that varible name.'"
      ]
     },
     "execution_count": 5,
     "metadata": {},
     "output_type": "execute_result"
    }
   ],
   "source": [
    "# Ans-2\n",
    "\"\"\"1-Variables are used to store value.\n",
    "2-It help to use that value whenever we need by using that varible name.\"\"\""
   ]
  },
  {
   "cell_type": "code",
   "execution_count": 6,
   "id": "20ce1aad-0b7d-4874-84da-99bf2c63d769",
   "metadata": {},
   "outputs": [],
   "source": [
    "#Declare and Assign"
   ]
  },
  {
   "cell_type": "code",
   "execution_count": 8,
   "id": "71f8cd6e-650e-4cff-b169-b7b4388dacc1",
   "metadata": {},
   "outputs": [],
   "source": [
    "V=10"
   ]
  },
  {
   "cell_type": "code",
   "execution_count": 9,
   "id": "66d52737-5e71-4e92-b102-c167fba7369d",
   "metadata": {},
   "outputs": [
    {
     "data": {
      "text/plain": [
       "10"
      ]
     },
     "execution_count": 9,
     "metadata": {},
     "output_type": "execute_result"
    }
   ],
   "source": [
    "V"
   ]
  },
  {
   "cell_type": "markdown",
   "id": "4f98bb2b-7d3e-4d49-8e62-6a765a21ca28",
   "metadata": {},
   "source": [
    "Q-3"
   ]
  },
  {
   "cell_type": "code",
   "execution_count": 10,
   "id": "95839290-e29b-4077-bf46-20de07c9ad44",
   "metadata": {},
   "outputs": [],
   "source": [
    "# Q-3:How do you convert one data type to another in Python?"
   ]
  },
  {
   "cell_type": "code",
   "execution_count": 11,
   "id": "d0014f26-0a8f-4e39-ab86-3263f139b374",
   "metadata": {},
   "outputs": [],
   "source": [
    "# Ans-3\n",
    "# Using Typecasting \n",
    "V=1234"
   ]
  },
  {
   "cell_type": "code",
   "execution_count": 12,
   "id": "7e5302e1-c7bb-4ee0-975a-40ac2ca510f0",
   "metadata": {},
   "outputs": [
    {
     "data": {
      "text/plain": [
       "int"
      ]
     },
     "execution_count": 12,
     "metadata": {},
     "output_type": "execute_result"
    }
   ],
   "source": [
    "type(V)"
   ]
  },
  {
   "cell_type": "code",
   "execution_count": 13,
   "id": "1d0e496b-a98d-4a65-a850-49628939cabc",
   "metadata": {},
   "outputs": [
    {
     "data": {
      "text/plain": [
       "'1234'"
      ]
     },
     "execution_count": 13,
     "metadata": {},
     "output_type": "execute_result"
    }
   ],
   "source": [
    "str(V)"
   ]
  },
  {
   "cell_type": "markdown",
   "id": "96103e90-a6c6-46d8-a01f-16fba40b7564",
   "metadata": {},
   "source": [
    "Q-4"
   ]
  },
  {
   "cell_type": "code",
   "execution_count": 14,
   "id": "30a30ac5-33a7-4b56-957f-41d892b3bb97",
   "metadata": {},
   "outputs": [],
   "source": [
    "# Q-4:How do you write and execute a Python script from the command line?"
   ]
  },
  {
   "cell_type": "code",
   "execution_count": 16,
   "id": "41b715e3-64e0-4da8-a957-5e06e3da26c6",
   "metadata": {},
   "outputs": [],
   "source": [
    "# Ans-4\n",
    "# Step1-Open Notepad write print('Ashutosh')\n",
    "# Step2-Save that file with .py extension like ashu.py\n",
    "# Step3-Open CMD on your system\n",
    "# Step4-Type python ashu.py\n",
    "# Step5-It will show you 'Ashutosh' in next line\n",
    "# Step6-Done"
   ]
  },
  {
   "cell_type": "markdown",
   "id": "fcf09979-ee61-43d3-8d9b-c2a6d9bd24e5",
   "metadata": {},
   "source": [
    "Q-5"
   ]
  },
  {
   "cell_type": "code",
   "execution_count": 17,
   "id": "0f6d6fbc-7f68-4713-9275-25454b22a235",
   "metadata": {},
   "outputs": [],
   "source": [
    "# Q-5:Given a list my_list = [1, 2, 3, 4, 5], write the code to slice the list and obtain the sub-list [2, 3]."
   ]
  },
  {
   "cell_type": "code",
   "execution_count": 20,
   "id": "4a4e47cd-eff4-4b74-9225-096778784e6e",
   "metadata": {},
   "outputs": [],
   "source": [
    "#Ans-5\n",
    "my_list=[1,2,3,4,5]\n",
    "sub_list=[]\n",
    "for i in range(2,4):\n",
    "    sub_list.append(i)"
   ]
  },
  {
   "cell_type": "code",
   "execution_count": 21,
   "id": "8d3048b0-5a61-4528-b98a-f1403c5e8bf3",
   "metadata": {},
   "outputs": [
    {
     "data": {
      "text/plain": [
       "[2, 3]"
      ]
     },
     "execution_count": 21,
     "metadata": {},
     "output_type": "execute_result"
    }
   ],
   "source": [
    "sub_list"
   ]
  },
  {
   "cell_type": "markdown",
   "id": "469584e5-6796-4e9a-8105-ee5aa6104da2",
   "metadata": {},
   "source": [
    "Q-6"
   ]
  },
  {
   "cell_type": "code",
   "execution_count": 22,
   "id": "abd5abd0-427f-4b82-8b3d-6fe31f54ffb4",
   "metadata": {},
   "outputs": [],
   "source": [
    "# Q-6:What is a complex number in mathematics, and how is it represented in Python?"
   ]
  },
  {
   "cell_type": "code",
   "execution_count": 23,
   "id": "e505d0eb-c995-4856-ad33-0de879b0537e",
   "metadata": {},
   "outputs": [],
   "source": [
    "# Ans-6\n",
    "# Complex number is a combination of real and imaginary number in mathematics like 4i+5j.\n",
    "# 4i->>Real part.\n",
    "# 5j->>Imaginary part.\n",
    "\n",
    "# But in Python complex number is represented like 4+5j\n",
    "# 4->>Real part.\n",
    "# 5j->>Imaginary part."
   ]
  },
  {
   "cell_type": "markdown",
   "id": "85e6365e-5a36-47d6-8fb2-37fd21a0fb4e",
   "metadata": {},
   "source": [
    "Q-7"
   ]
  },
  {
   "cell_type": "code",
   "execution_count": 24,
   "id": "a95d3ad2-17a9-4a72-9d59-6567ba3c6b8f",
   "metadata": {},
   "outputs": [],
   "source": [
    "# Q-7:What is the correct way to declare a variable named age and assign the value 25 to it?"
   ]
  },
  {
   "cell_type": "code",
   "execution_count": 25,
   "id": "15bab9c2-ac11-4561-bad0-8920fc7df185",
   "metadata": {},
   "outputs": [],
   "source": [
    "#Ans-7\n",
    "age=25"
   ]
  },
  {
   "cell_type": "code",
   "execution_count": 26,
   "id": "53f401a1-79ed-4b9e-a36c-4016e85ffbbf",
   "metadata": {},
   "outputs": [
    {
     "data": {
      "text/plain": [
       "25"
      ]
     },
     "execution_count": 26,
     "metadata": {},
     "output_type": "execute_result"
    }
   ],
   "source": [
    "age"
   ]
  },
  {
   "cell_type": "markdown",
   "id": "903bf5e6-1452-4fde-ae03-b2141947bd1f",
   "metadata": {},
   "source": [
    "Q-8"
   ]
  },
  {
   "cell_type": "code",
   "execution_count": 27,
   "id": "348a6c84-a305-4c4f-b2b2-7632d1fef9c2",
   "metadata": {},
   "outputs": [],
   "source": [
    "# Q-8:Declare a variable named price and assign the value 9.99 to it. What data type does this variable\n",
    "# belong to?"
   ]
  },
  {
   "cell_type": "code",
   "execution_count": 28,
   "id": "3477a9c5-c362-44dc-aaa3-f056871d4102",
   "metadata": {},
   "outputs": [],
   "source": [
    "# Ans-8\n",
    "price=9.99"
   ]
  },
  {
   "cell_type": "code",
   "execution_count": 29,
   "id": "9d5d8028-3a80-4239-a527-f0313da642b5",
   "metadata": {},
   "outputs": [
    {
     "data": {
      "text/plain": [
       "9.99"
      ]
     },
     "execution_count": 29,
     "metadata": {},
     "output_type": "execute_result"
    }
   ],
   "source": [
    "price"
   ]
  },
  {
   "cell_type": "code",
   "execution_count": 30,
   "id": "75b26f39-261e-4df6-be61-3c6070d92110",
   "metadata": {},
   "outputs": [],
   "source": [
    "#Checking Datatype using type()"
   ]
  },
  {
   "cell_type": "code",
   "execution_count": 31,
   "id": "09fc1c22-1a91-4e8c-89f7-2ced305bb809",
   "metadata": {},
   "outputs": [
    {
     "data": {
      "text/plain": [
       "float"
      ]
     },
     "execution_count": 31,
     "metadata": {},
     "output_type": "execute_result"
    }
   ],
   "source": [
    "type(price)"
   ]
  },
  {
   "cell_type": "markdown",
   "id": "a33c733e-dc19-40cd-bbc0-becfe29dd31e",
   "metadata": {},
   "source": [
    "Q-9"
   ]
  },
  {
   "cell_type": "code",
   "execution_count": 32,
   "id": "43f621c2-47ae-42cc-a6e5-a23f84e14fa7",
   "metadata": {},
   "outputs": [],
   "source": [
    "# Q-9:Create a variable named name and assign your full name to it as a string. How would you print the\n",
    "# value of this variable?"
   ]
  },
  {
   "cell_type": "code",
   "execution_count": 33,
   "id": "c76e9fd4-bcf3-48e0-a77d-611f9f9c8380",
   "metadata": {},
   "outputs": [],
   "source": [
    "# Ans-9\n",
    "name='Ashutosh Rana'"
   ]
  },
  {
   "cell_type": "code",
   "execution_count": 34,
   "id": "be652a05-30c5-4f11-b5b4-1fb438fbfbca",
   "metadata": {},
   "outputs": [
    {
     "data": {
      "text/plain": [
       "'Ashutosh Rana'"
      ]
     },
     "execution_count": 34,
     "metadata": {},
     "output_type": "execute_result"
    }
   ],
   "source": [
    "name"
   ]
  },
  {
   "cell_type": "markdown",
   "id": "a5c24fd9-1c7d-461e-ad14-a464e95aead6",
   "metadata": {},
   "source": [
    "Q-10"
   ]
  },
  {
   "cell_type": "code",
   "execution_count": 35,
   "id": "9ad4b02c-b0e9-4da5-966a-a2c696bd70e2",
   "metadata": {},
   "outputs": [],
   "source": [
    "# Q-10:Given the string \"Hello, World!\", extract the substring \"World\"."
   ]
  },
  {
   "cell_type": "code",
   "execution_count": 36,
   "id": "e3956d36-0185-4af2-889f-d42606116257",
   "metadata": {},
   "outputs": [],
   "source": [
    "# Ans-10\n",
    "s=\"Hello,World!\""
   ]
  },
  {
   "cell_type": "code",
   "execution_count": 40,
   "id": "92b72aae-9e3b-4c08-867f-0cbd00a7db12",
   "metadata": {},
   "outputs": [
    {
     "data": {
      "text/plain": [
       "'World'"
      ]
     },
     "execution_count": 40,
     "metadata": {},
     "output_type": "execute_result"
    }
   ],
   "source": [
    "s[6:11]"
   ]
  },
  {
   "cell_type": "markdown",
   "id": "ea146bba-b4fd-4ac9-bd05-8127d730bd6e",
   "metadata": {},
   "source": [
    "Q-11"
   ]
  },
  {
   "cell_type": "code",
   "execution_count": 41,
   "id": "939d64e8-a62b-461d-afba-6c3cfef5891d",
   "metadata": {},
   "outputs": [],
   "source": [
    "# Q-11:Create a variable named \"is_student\" and assign it a boolean value indicating whether you are\n",
    "# currently a student or not."
   ]
  },
  {
   "cell_type": "code",
   "execution_count": 42,
   "id": "5728fddc-a41e-47ae-bff6-8eccc3b99d1e",
   "metadata": {},
   "outputs": [],
   "source": [
    "# Ans-11\n",
    "is_student=True"
   ]
  },
  {
   "cell_type": "code",
   "execution_count": 43,
   "id": "8907e249-40e8-4a31-8968-27a46b8817eb",
   "metadata": {},
   "outputs": [
    {
     "data": {
      "text/plain": [
       "True"
      ]
     },
     "execution_count": 43,
     "metadata": {},
     "output_type": "execute_result"
    }
   ],
   "source": [
    "is_student"
   ]
  },
  {
   "cell_type": "code",
   "execution_count": null,
   "id": "5be8ecc0-c356-4ea0-abbe-730bb4acec6c",
   "metadata": {},
   "outputs": [],
   "source": []
  }
 ],
 "metadata": {
  "kernelspec": {
   "display_name": "Python 3 (ipykernel)",
   "language": "python",
   "name": "python3"
  },
  "language_info": {
   "codemirror_mode": {
    "name": "ipython",
    "version": 3
   },
   "file_extension": ".py",
   "mimetype": "text/x-python",
   "name": "python",
   "nbconvert_exporter": "python",
   "pygments_lexer": "ipython3",
   "version": "3.10.8"
  }
 },
 "nbformat": 4,
 "nbformat_minor": 5
}
