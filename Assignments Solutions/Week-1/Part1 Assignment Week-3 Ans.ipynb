{
 "cells": [
  {
   "cell_type": "markdown",
   "id": "38971d08-72a7-4e98-a94e-4bdaeb06ca2d",
   "metadata": {},
   "source": [
    "Part2 Assignment Week-3 Solutions"
   ]
  },
  {
   "cell_type": "code",
   "execution_count": 1,
   "id": "9da3e32d-337c-4b30-a751-44337fca8353",
   "metadata": {},
   "outputs": [],
   "source": [
    "# Q1. Which keyword is used to create a function? Create a function to return a list of odd numbers in the\n",
    "# range of 1 to 25."
   ]
  },
  {
   "cell_type": "code",
   "execution_count": 8,
   "id": "784c8ca4-e4bc-4b12-9be1-037450745c1f",
   "metadata": {},
   "outputs": [
    {
     "data": {
      "text/plain": [
       "[1, 3, 5, 7, 9, 11, 13, 15, 17, 19, 21, 23, 25]"
      ]
     },
     "execution_count": 8,
     "metadata": {},
     "output_type": "execute_result"
    }
   ],
   "source": [
    "# Ans1-\n",
    "#def keyword is used to create a function\n",
    "def odd_numbers():\n",
    "    l=[]\n",
    "    for i in range(1,26):\n",
    "        if i%2!=0:\n",
    "            l.append(i)\n",
    "    return l\n",
    "odd_numbers()"
   ]
  },
  {
   "cell_type": "code",
   "execution_count": 6,
   "id": "76dab6d3-2ea9-4d4c-b75f-46421e79f1e1",
   "metadata": {},
   "outputs": [],
   "source": [
    "# Q2. Why *args and **kwargs is used in some functions? Create a function each for *args and **kwargs\n",
    "# to demonstrate their use."
   ]
  },
  {
   "cell_type": "code",
   "execution_count": 15,
   "id": "bba1bb0c-532c-4d73-9dfa-2f9abb463903",
   "metadata": {},
   "outputs": [
    {
     "data": {
      "text/plain": [
       "'*args-->It is used when we need multiple arguments.\\n**kwargs-->It is used when we need multiple arguments but in form of key-values.'"
      ]
     },
     "execution_count": 15,
     "metadata": {},
     "output_type": "execute_result"
    }
   ],
   "source": [
    "# Ans2-\n",
    "\"\"\"*args-->It is used when we need multiple arguments.\n",
    "**kwargs-->It is used when we need multiple arguments but in form of key-values.\"\"\""
   ]
  },
  {
   "cell_type": "code",
   "execution_count": 20,
   "id": "7c519e7f-1c1b-4caf-9bef-88ae5784de03",
   "metadata": {},
   "outputs": [],
   "source": [
    "def func1(*args):\n",
    "    return args\n",
    "\n",
    "def func2(**kwargs):\n",
    "    return kwargs\n"
   ]
  },
  {
   "cell_type": "code",
   "execution_count": 23,
   "id": "43c2f6d3-c31e-43d2-bcbb-80d439f73425",
   "metadata": {},
   "outputs": [
    {
     "data": {
      "text/plain": [
       "('Ashu', 22.44, 98, True, 'Rana')"
      ]
     },
     "execution_count": 23,
     "metadata": {},
     "output_type": "execute_result"
    }
   ],
   "source": [
    "func1('Ashu',22.44,98,True,'Rana')"
   ]
  },
  {
   "cell_type": "code",
   "execution_count": 24,
   "id": "6daee07e-6f2e-49dd-ada4-7a711aa65fd6",
   "metadata": {},
   "outputs": [
    {
     "data": {
      "text/plain": [
       "{'Name': 'Ashutosh Rana',\n",
       " 'Enroll_No': 23485959,\n",
       " 'Email_id': 'ashutosh88@gmail.com'}"
      ]
     },
     "execution_count": 24,
     "metadata": {},
     "output_type": "execute_result"
    }
   ],
   "source": [
    "func2(Name='Ashutosh Rana',Enroll_No=23485959,Email_id='ashutosh88@gmail.com')"
   ]
  },
  {
   "cell_type": "code",
   "execution_count": 25,
   "id": "69699283-2500-4433-b6fb-fa3eff3de765",
   "metadata": {},
   "outputs": [],
   "source": [
    "# Q3. What is an iterator in python? Name the method used to initialise the iterator object and the method\n",
    "# used for iteration. Use these methods to print the first five elements of the given list [2, 4, 6, 8, 10, 12, 14,\n",
    "# 16, 18, 20]."
   ]
  },
  {
   "cell_type": "code",
   "execution_count": 70,
   "id": "1752219b-57ae-40a6-9c2d-af85cca30409",
   "metadata": {},
   "outputs": [],
   "source": [
    "# Ans3-\n",
    "#Using iterator\n",
    "l=[2, 4, 6, 8, 10, 12, 14,16, 18, 20]\n",
    "v=iter(l)"
   ]
  },
  {
   "cell_type": "code",
   "execution_count": 71,
   "id": "0e458be5-f5ec-4a5c-895a-92338ab88491",
   "metadata": {},
   "outputs": [
    {
     "name": "stdout",
     "output_type": "stream",
     "text": [
      "2\n",
      "4\n",
      "6\n",
      "8\n",
      "10\n"
     ]
    }
   ],
   "source": [
    "for i in range(5):\n",
    "    print(next(v))\n",
    "    "
   ]
  },
  {
   "cell_type": "code",
   "execution_count": 74,
   "id": "97731842-4ffc-44d8-873e-ef9421624fb0",
   "metadata": {},
   "outputs": [
    {
     "name": "stdout",
     "output_type": "stream",
     "text": [
      "2\n",
      "4\n",
      "6\n",
      "8\n",
      "10\n"
     ]
    }
   ],
   "source": [
    "#Using iteration\n",
    "for i in l[0:5]:\n",
    "    print(i)"
   ]
  },
  {
   "cell_type": "code",
   "execution_count": 61,
   "id": "10d3d5c5-fc70-4619-b9b7-9082daece9ba",
   "metadata": {},
   "outputs": [],
   "source": [
    "# Q4. What is a generator function in python? Why yield keyword is used? Give an example of a generator\n",
    "# function."
   ]
  },
  {
   "cell_type": "code",
   "execution_count": 1,
   "id": "4bf27439-9cb2-481c-afc5-004a961dc351",
   "metadata": {},
   "outputs": [],
   "source": [
    "# Ans4-\n",
    "# Generator Function-->Here we used yield keyword instead of return which generates output \n",
    "# one by one sequence way.\n",
    "\n",
    "# Yield-->It is used inside generator function to give the output in a sequence and give the \n",
    "# output in iterative way means iteration.\n",
    "\n",
    "def count(n):\n",
    "    count=1\n",
    "    while count<=n:\n",
    "        if count%2==0:\n",
    "            yield count\n",
    "        count+=1"
   ]
  },
  {
   "cell_type": "code",
   "execution_count": 2,
   "id": "ba7ff47c-33d2-43d6-94b1-04fd7ab26f4a",
   "metadata": {},
   "outputs": [],
   "source": [
    "c=count(20)"
   ]
  },
  {
   "cell_type": "code",
   "execution_count": 3,
   "id": "bdba1931-8a02-43a8-a658-81eb0d9014d7",
   "metadata": {},
   "outputs": [
    {
     "name": "stdout",
     "output_type": "stream",
     "text": [
      "2\n",
      "4\n",
      "6\n",
      "8\n",
      "10\n",
      "12\n",
      "14\n",
      "16\n",
      "18\n",
      "20\n"
     ]
    }
   ],
   "source": [
    "for i in c:\n",
    "    print(i)"
   ]
  },
  {
   "cell_type": "code",
   "execution_count": 4,
   "id": "9feda2ac-319a-4fc8-bcbd-4480f0b66453",
   "metadata": {},
   "outputs": [],
   "source": [
    "# Q5. Create a generator function for prime numbers less than 1000. Use the next() method to print the\n",
    "# first 20 prime numbers."
   ]
  },
  {
   "cell_type": "code",
   "execution_count": 1,
   "id": "11475a77-5049-40e4-98f0-28686f2f342c",
   "metadata": {},
   "outputs": [],
   "source": [
    "# Ans5-\n",
    "def prime_number_gen():\n",
    "    num=2\n",
    "    while(num<1000):\n",
    "        if is_prime(num):\n",
    "            yield num\n",
    "        num=num+1\n",
    "        \n",
    "def is_prime(n):\n",
    "    if n<2:\n",
    "        return False\n",
    "    for i in range(2,int(n**0.5)+1):\n",
    "        if n%i==0:\n",
    "            return False\n",
    "    return True"
   ]
  },
  {
   "cell_type": "code",
   "execution_count": 4,
   "id": "d28470eb-8350-49b0-a908-317c44d87bef",
   "metadata": {},
   "outputs": [],
   "source": [
    "prime_gen=prime_number_gen()"
   ]
  },
  {
   "cell_type": "code",
   "execution_count": 5,
   "id": "c4f0ed3b-4b47-436b-a348-4380cf55fb9f",
   "metadata": {},
   "outputs": [
    {
     "data": {
      "text/plain": [
       "[2, 3, 5, 7, 11, 13, 17, 19, 23, 29, 31, 37, 41, 43, 47, 53, 59, 61, 67, 71]"
      ]
     },
     "execution_count": 5,
     "metadata": {},
     "output_type": "execute_result"
    }
   ],
   "source": [
    "[next(prime_gen) for _ in range(20)]"
   ]
  },
  {
   "cell_type": "code",
   "execution_count": null,
   "id": "c688b15a-962d-48c4-90b4-7a69f2a280c1",
   "metadata": {},
   "outputs": [],
   "source": []
  },
  {
   "cell_type": "code",
   "execution_count": 6,
   "id": "86e1ee2c-fefe-43b5-9b1a-49a7fd11cbb5",
   "metadata": {},
   "outputs": [],
   "source": [
    "# Q6. Write a python program to print the first 10 Fibonacci numbers using a while loop."
   ]
  },
  {
   "cell_type": "code",
   "execution_count": 10,
   "id": "747481fd-1182-456f-b995-0228432f7dfd",
   "metadata": {},
   "outputs": [],
   "source": [
    "# Ans-6\n",
    "def fib(n):\n",
    "    a,b=0,1\n",
    "    for i in range(n):\n",
    "        yield a\n",
    "        a,b=b,b+a\n",
    "        "
   ]
  },
  {
   "cell_type": "code",
   "execution_count": 11,
   "id": "2ec6a730-aedc-4b22-abbd-c8d14598ce23",
   "metadata": {},
   "outputs": [
    {
     "data": {
      "text/plain": [
       "<generator object fib at 0x7f58504aba00>"
      ]
     },
     "execution_count": 11,
     "metadata": {},
     "output_type": "execute_result"
    }
   ],
   "source": [
    "fib(10)"
   ]
  },
  {
   "cell_type": "code",
   "execution_count": 12,
   "id": "bdbc8867-b530-4343-8226-8f0eeae5a1cb",
   "metadata": {},
   "outputs": [
    {
     "name": "stdout",
     "output_type": "stream",
     "text": [
      "0\n",
      "1\n",
      "1\n",
      "2\n",
      "3\n",
      "5\n",
      "8\n",
      "13\n",
      "21\n",
      "34\n"
     ]
    }
   ],
   "source": [
    "for i in fib(10):\n",
    "    print(i)"
   ]
  },
  {
   "cell_type": "code",
   "execution_count": 13,
   "id": "80345349-c28c-41cb-9f3e-084791de349a",
   "metadata": {},
   "outputs": [],
   "source": [
    "# Q7. Write a List Comprehension to iterate through the given string: ‘pwskills’.\n",
    "# Expected output: ['p', 'w', 's', 'k', 'i', 'l', 'l', 's']"
   ]
  },
  {
   "cell_type": "code",
   "execution_count": 14,
   "id": "17e9a9a4-6e21-4856-b638-a6193d1dc625",
   "metadata": {},
   "outputs": [
    {
     "data": {
      "text/plain": [
       "['p', 'w', 's', 'k', 'i', 'l', 'l', 's']"
      ]
     },
     "execution_count": 14,
     "metadata": {},
     "output_type": "execute_result"
    }
   ],
   "source": [
    "# Ans7-\n",
    "s='pwskills'\n",
    "list=[x for x in s]\n",
    "list"
   ]
  },
  {
   "cell_type": "code",
   "execution_count": 15,
   "id": "05e43389-35e1-477e-8c5a-91d31c5c8910",
   "metadata": {},
   "outputs": [],
   "source": [
    "# Q8. Write a python program to check whether a given number is Palindrome or not using a while loop."
   ]
  },
  {
   "cell_type": "code",
   "execution_count": 3,
   "id": "68532ca8-9f96-483c-8439-2ba6c2678282",
   "metadata": {},
   "outputs": [
    {
     "name": "stdin",
     "output_type": "stream",
     "text": [
      " 98009\n"
     ]
    },
    {
     "name": "stdout",
     "output_type": "stream",
     "text": [
      "98009 is Palindrome\n"
     ]
    }
   ],
   "source": [
    "n=input()\n",
    "while(True):\n",
    "    if (n==n[::-1]):\n",
    "        print(n,\"is Palindrome\")\n",
    "        \n",
    "    else:\n",
    "        print(n,\"is not Palindrome\")\n",
    "        break\n",
    "    "
   ]
  },
  {
   "cell_type": "code",
   "execution_count": 1,
   "id": "25a73865-7fbb-4ccb-9145-40d98bb6834b",
   "metadata": {},
   "outputs": [],
   "source": [
    "# Q9. Write a code to print odd numbers from 1 to 100 using list comprehension.\n",
    "# Use a list comprehension to create a list from 1 to 100 and use another List comprehension to filter\n",
    "# out odd numbers."
   ]
  },
  {
   "cell_type": "code",
   "execution_count": 25,
   "id": "c2254351-25e2-4cca-94c8-dd9cced94a80",
   "metadata": {},
   "outputs": [],
   "source": [
    "l=[x for x in range(1,101)]"
   ]
  },
  {
   "cell_type": "code",
   "execution_count": 26,
   "id": "3e73d26e-597d-48ba-9e51-79da75c3d69d",
   "metadata": {},
   "outputs": [
    {
     "data": {
      "text/plain": [
       "[1,\n",
       " 2,\n",
       " 3,\n",
       " 4,\n",
       " 5,\n",
       " 6,\n",
       " 7,\n",
       " 8,\n",
       " 9,\n",
       " 10,\n",
       " 11,\n",
       " 12,\n",
       " 13,\n",
       " 14,\n",
       " 15,\n",
       " 16,\n",
       " 17,\n",
       " 18,\n",
       " 19,\n",
       " 20,\n",
       " 21,\n",
       " 22,\n",
       " 23,\n",
       " 24,\n",
       " 25,\n",
       " 26,\n",
       " 27,\n",
       " 28,\n",
       " 29,\n",
       " 30,\n",
       " 31,\n",
       " 32,\n",
       " 33,\n",
       " 34,\n",
       " 35,\n",
       " 36,\n",
       " 37,\n",
       " 38,\n",
       " 39,\n",
       " 40,\n",
       " 41,\n",
       " 42,\n",
       " 43,\n",
       " 44,\n",
       " 45,\n",
       " 46,\n",
       " 47,\n",
       " 48,\n",
       " 49,\n",
       " 50,\n",
       " 51,\n",
       " 52,\n",
       " 53,\n",
       " 54,\n",
       " 55,\n",
       " 56,\n",
       " 57,\n",
       " 58,\n",
       " 59,\n",
       " 60,\n",
       " 61,\n",
       " 62,\n",
       " 63,\n",
       " 64,\n",
       " 65,\n",
       " 66,\n",
       " 67,\n",
       " 68,\n",
       " 69,\n",
       " 70,\n",
       " 71,\n",
       " 72,\n",
       " 73,\n",
       " 74,\n",
       " 75,\n",
       " 76,\n",
       " 77,\n",
       " 78,\n",
       " 79,\n",
       " 80,\n",
       " 81,\n",
       " 82,\n",
       " 83,\n",
       " 84,\n",
       " 85,\n",
       " 86,\n",
       " 87,\n",
       " 88,\n",
       " 89,\n",
       " 90,\n",
       " 91,\n",
       " 92,\n",
       " 93,\n",
       " 94,\n",
       " 95,\n",
       " 96,\n",
       " 97,\n",
       " 98,\n",
       " 99,\n",
       " 100]"
      ]
     },
     "execution_count": 26,
     "metadata": {},
     "output_type": "execute_result"
    }
   ],
   "source": [
    "l"
   ]
  },
  {
   "cell_type": "code",
   "execution_count": 27,
   "id": "7daffbd6-5dbf-40a5-9174-a5531c2db120",
   "metadata": {},
   "outputs": [],
   "source": [
    "l2=[x for x in l if x%2!=0]"
   ]
  },
  {
   "cell_type": "code",
   "execution_count": 28,
   "id": "e42d19e5-9bfb-4d4b-8509-46ccd4ac3539",
   "metadata": {},
   "outputs": [
    {
     "data": {
      "text/plain": [
       "[1,\n",
       " 3,\n",
       " 5,\n",
       " 7,\n",
       " 9,\n",
       " 11,\n",
       " 13,\n",
       " 15,\n",
       " 17,\n",
       " 19,\n",
       " 21,\n",
       " 23,\n",
       " 25,\n",
       " 27,\n",
       " 29,\n",
       " 31,\n",
       " 33,\n",
       " 35,\n",
       " 37,\n",
       " 39,\n",
       " 41,\n",
       " 43,\n",
       " 45,\n",
       " 47,\n",
       " 49,\n",
       " 51,\n",
       " 53,\n",
       " 55,\n",
       " 57,\n",
       " 59,\n",
       " 61,\n",
       " 63,\n",
       " 65,\n",
       " 67,\n",
       " 69,\n",
       " 71,\n",
       " 73,\n",
       " 75,\n",
       " 77,\n",
       " 79,\n",
       " 81,\n",
       " 83,\n",
       " 85,\n",
       " 87,\n",
       " 89,\n",
       " 91,\n",
       " 93,\n",
       " 95,\n",
       " 97,\n",
       " 99]"
      ]
     },
     "execution_count": 28,
     "metadata": {},
     "output_type": "execute_result"
    }
   ],
   "source": [
    "l2"
   ]
  },
  {
   "cell_type": "code",
   "execution_count": null,
   "id": "199be3e5-8327-4190-8653-13bc6c66c88d",
   "metadata": {},
   "outputs": [],
   "source": []
  }
 ],
 "metadata": {
  "kernelspec": {
   "display_name": "Python 3 (ipykernel)",
   "language": "python",
   "name": "python3"
  },
  "language_info": {
   "codemirror_mode": {
    "name": "ipython",
    "version": 3
   },
   "file_extension": ".py",
   "mimetype": "text/x-python",
   "name": "python",
   "nbconvert_exporter": "python",
   "pygments_lexer": "ipython3",
   "version": "3.10.8"
  }
 },
 "nbformat": 4,
 "nbformat_minor": 5
}
