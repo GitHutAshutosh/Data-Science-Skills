{
 "cells": [
  {
   "cell_type": "markdown",
   "id": "211e0beb-9856-4bec-b7bd-3cae9d612f08",
   "metadata": {},
   "source": [
    "Task Assignment Week-4 Solutions"
   ]
  },
  {
   "cell_type": "code",
   "execution_count": 2,
   "id": "22ef48a8-3ae5-4dcb-b43f-c6e1db3e2ece",
   "metadata": {},
   "outputs": [],
   "source": [
    "# Q1, Create a vehicle class with an init method having instance variables as name_of_vehicle, max_speed\n",
    "# and average_of_vehicle."
   ]
  },
  {
   "cell_type": "code",
   "execution_count": 3,
   "id": "b64c61ca-7f6d-4205-bc73-282ed1d4a155",
   "metadata": {},
   "outputs": [],
   "source": [
    "# Ans1-\n",
    "class vehicle():\n",
    "    \n",
    "    def __init__(self,name_of_vehicle,max_speed,average_of_vehicle):\n",
    "        \n",
    "        self.name_of_vehicle=name_of_vehicle\n",
    "        self.max_speed=max_speed\n",
    "        self.average_of_vehicle=average_of_vehicle\n",
    "        \n",
    "    def return_values(self):\n",
    "        return self.name_of_vehicle,self.max_speed,self.average_of_vehicle"
   ]
  },
  {
   "cell_type": "code",
   "execution_count": 4,
   "id": "c4d36b50-7130-4604-a659-64bb6c76490e",
   "metadata": {},
   "outputs": [],
   "source": [
    "vehicle_obj=vehicle('Swift',100,25)"
   ]
  },
  {
   "cell_type": "code",
   "execution_count": 5,
   "id": "242493fa-7d12-4a03-bc33-9d752b9f9f53",
   "metadata": {},
   "outputs": [
    {
     "data": {
      "text/plain": [
       "('Swift', 100, 25)"
      ]
     },
     "execution_count": 5,
     "metadata": {},
     "output_type": "execute_result"
    }
   ],
   "source": [
    "vehicle_obj.return_values()"
   ]
  },
  {
   "cell_type": "code",
   "execution_count": 6,
   "id": "98dea21d-b200-4954-9845-589a5811e409",
   "metadata": {},
   "outputs": [
    {
     "data": {
      "text/plain": [
       "100"
      ]
     },
     "execution_count": 6,
     "metadata": {},
     "output_type": "execute_result"
    }
   ],
   "source": [
    "vehicle_obj.max_speed"
   ]
  },
  {
   "cell_type": "code",
   "execution_count": 7,
   "id": "95944649-e865-4d53-af16-2e00b436b4d7",
   "metadata": {},
   "outputs": [],
   "source": [
    "# Q2. Create a child class car from the vehicle class created in Que 1, which will inherit the vehicle class.\n",
    "# Create a method named seating_capacity which takes capacity as an argument and returns the name of\n",
    "# the vehicle and its seating capacity."
   ]
  },
  {
   "cell_type": "code",
   "execution_count": 23,
   "id": "676842e0-6662-4a4f-a634-42f461d1560e",
   "metadata": {},
   "outputs": [],
   "source": [
    "# Ans2-\n",
    "class car(vehicle):\n",
    "    \n",
    "    \n",
    "    def __init__(self,name_of_vehicle,max_speed,average_of_vehicle,seating_capacity):\n",
    "        super().__init__(name_of_vehicle,max_speed,average_of_vehicle)\n",
    "        self.seating_capacity=seating_capacity\n",
    "    \n",
    "    def return_values2(self):\n",
    "        return self.name_of_vehicle,self.seating_capacity,\n"
   ]
  },
  {
   "cell_type": "code",
   "execution_count": 24,
   "id": "9fe6f420-9203-445a-9d11-f17f6a358090",
   "metadata": {},
   "outputs": [],
   "source": [
    "car_obj=car('Swift',100,25,5)"
   ]
  },
  {
   "cell_type": "code",
   "execution_count": 25,
   "id": "11770307-2c8a-4244-a7db-1ccf02232558",
   "metadata": {},
   "outputs": [
    {
     "data": {
      "text/plain": [
       "('Swift', 5)"
      ]
     },
     "execution_count": 25,
     "metadata": {},
     "output_type": "execute_result"
    }
   ],
   "source": [
    "car_obj.return_values2()"
   ]
  },
  {
   "cell_type": "code",
   "execution_count": 9,
   "id": "585b1096-f92b-4c87-9122-295428202b8d",
   "metadata": {},
   "outputs": [],
   "source": [
    "# Q3. What is multiple inheritance? Write a python code to demonstrate multiple inheritance."
   ]
  },
  {
   "cell_type": "code",
   "execution_count": 11,
   "id": "aa2806ae-7550-4f14-bc97-f6cb5a7a4858",
   "metadata": {},
   "outputs": [],
   "source": [
    "# Ans3-\n",
    "# Multiple inheritance-->We make class1 and class2 then class3 take both class1 and class2\n",
    "# properties,methods and functions together then its called Multiple Inheritance.\n",
    "\n",
    "class class1:\n",
    "    def class1(self):\n",
    "        return \"This is my class1\"\n",
    "class class2:\n",
    "    def class2(self):\n",
    "        return \"This is my class2\"\n",
    "\n",
    "class class3(class1,class2):\n",
    "    pass"
   ]
  },
  {
   "cell_type": "code",
   "execution_count": 12,
   "id": "9e4334fa-4307-4fdf-958b-fdc56e58e182",
   "metadata": {},
   "outputs": [],
   "source": [
    "class3_obj=class3()"
   ]
  },
  {
   "cell_type": "code",
   "execution_count": 14,
   "id": "a9cc286a-f1b5-4df8-9aae-732dc1437e3b",
   "metadata": {},
   "outputs": [
    {
     "data": {
      "text/plain": [
       "'This is my class1'"
      ]
     },
     "execution_count": 14,
     "metadata": {},
     "output_type": "execute_result"
    }
   ],
   "source": [
    "class3_obj.class1()"
   ]
  },
  {
   "cell_type": "code",
   "execution_count": 65,
   "id": "82560388-fe38-40af-9dbc-4faccdc52588",
   "metadata": {},
   "outputs": [
    {
     "data": {
      "text/plain": [
       "'This is my class2'"
      ]
     },
     "execution_count": 65,
     "metadata": {},
     "output_type": "execute_result"
    }
   ],
   "source": [
    "class3_obj.class2()"
   ]
  },
  {
   "cell_type": "code",
   "execution_count": 26,
   "id": "e0c3434c-8dd5-46a2-ba61-cbacbd65e776",
   "metadata": {},
   "outputs": [],
   "source": [
    "# Q4. What are getter and setter in python? Create a class and create a getter and a setter method in this\n",
    "# class."
   ]
  },
  {
   "cell_type": "code",
   "execution_count": 102,
   "id": "a0d3a542-0090-42df-93fd-dad1fc53676f",
   "metadata": {},
   "outputs": [],
   "source": [
    "# Ans-4\n",
    "# Getter-->It is used to get values from private variable inside method of class\n",
    "# Setter-->It is used to set values in private variable inside method of class\n",
    "class student_name:\n",
    "    def __init__(self,name):\n",
    "        self.__name=name\n",
    "    \n",
    "    @property\n",
    "    def access(self):\n",
    "        return self.__name\n",
    "    \n",
    "    @access.getter   \n",
    "    def get_name(self):\n",
    "        return self.__name\n",
    "    \n",
    "    @access.setter\n",
    "    def set_name(self,name):\n",
    "        self.__name=name\n"
   ]
  },
  {
   "cell_type": "code",
   "execution_count": 104,
   "id": "e727ec10-16eb-4bce-996d-7f4da3845c16",
   "metadata": {},
   "outputs": [],
   "source": [
    "std=student_name('Ashu')"
   ]
  },
  {
   "cell_type": "code",
   "execution_count": 105,
   "id": "2ffb5d0d-e4dd-4328-816a-b0c089f1cc42",
   "metadata": {},
   "outputs": [
    {
     "data": {
      "text/plain": [
       "'Ashu'"
      ]
     },
     "execution_count": 105,
     "metadata": {},
     "output_type": "execute_result"
    }
   ],
   "source": [
    "std.get_name"
   ]
  },
  {
   "cell_type": "code",
   "execution_count": 106,
   "id": "9939edad-0b43-4435-8559-9d9af8cb4787",
   "metadata": {},
   "outputs": [],
   "source": [
    "std.set_name='Monal'"
   ]
  },
  {
   "cell_type": "code",
   "execution_count": 107,
   "id": "cb2a76cc-112c-449e-9b7f-c016a3aa7d5a",
   "metadata": {},
   "outputs": [
    {
     "name": "stdout",
     "output_type": "stream",
     "text": [
      "Monal\n"
     ]
    }
   ],
   "source": [
    "print(std.set_name)"
   ]
  },
  {
   "cell_type": "code",
   "execution_count": 87,
   "id": "d8472510-a67a-4275-881d-9d88d7f77884",
   "metadata": {},
   "outputs": [],
   "source": [
    "# Q5.What is method overriding in python? Write a python code to demonstrate method overriding."
   ]
  },
  {
   "cell_type": "code",
   "execution_count": 108,
   "id": "0794dc13-527b-4c54-b595-eec9dd5b2c2b",
   "metadata": {},
   "outputs": [],
   "source": [
    "# Ans-5\n",
    "# Method overriding is when we have same method name but different parameter inside that \n",
    "\n",
    "class Parent():\n",
    "    def class_info(self):\n",
    "        return \"This is Parent info\"\n",
    "    \n",
    "class child(Parent):\n",
    "    def class_info(self):\n",
    "        return \"This is Child info\""
   ]
  },
  {
   "cell_type": "code",
   "execution_count": 109,
   "id": "ffc646cb-9520-4578-af84-44ec0a9d4590",
   "metadata": {},
   "outputs": [],
   "source": [
    "child_obj=child()"
   ]
  },
  {
   "cell_type": "code",
   "execution_count": 111,
   "id": "2a7ab3d2-d375-4548-ba0a-75a201c20f53",
   "metadata": {},
   "outputs": [
    {
     "data": {
      "text/plain": [
       "'This is Child info'"
      ]
     },
     "execution_count": 111,
     "metadata": {},
     "output_type": "execute_result"
    }
   ],
   "source": [
    "child_obj.class_info()"
   ]
  },
  {
   "cell_type": "code",
   "execution_count": null,
   "id": "3b30dbdd-d068-48df-b7de-d4b5d182457a",
   "metadata": {},
   "outputs": [],
   "source": []
  }
 ],
 "metadata": {
  "kernelspec": {
   "display_name": "Python 3 (ipykernel)",
   "language": "python",
   "name": "python3"
  },
  "language_info": {
   "codemirror_mode": {
    "name": "ipython",
    "version": 3
   },
   "file_extension": ".py",
   "mimetype": "text/x-python",
   "name": "python",
   "nbconvert_exporter": "python",
   "pygments_lexer": "ipython3",
   "version": "3.10.8"
  }
 },
 "nbformat": 4,
 "nbformat_minor": 5
}
