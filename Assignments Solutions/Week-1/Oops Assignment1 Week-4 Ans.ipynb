{
 "cells": [
  {
   "cell_type": "markdown",
   "id": "c45cdca9-0671-42dc-8e39-b051cc6d8bae",
   "metadata": {},
   "source": [
    "Oops Part 1 Assignment Week-4 Solutions"
   ]
  },
  {
   "cell_type": "code",
   "execution_count": 1,
   "id": "a7882683-5414-4158-99ac-8ee2f6973481",
   "metadata": {},
   "outputs": [],
   "source": [
    "# Q1. Explain Class and Object with respect to Object-Oriented Programming. Give a suitable example."
   ]
  },
  {
   "cell_type": "code",
   "execution_count": 3,
   "id": "b89d4df4-5bca-4f21-bb44-eecb7883a195",
   "metadata": {},
   "outputs": [],
   "source": [
    "# Ans-1\n",
    "# Class-->Class is a blueprint or skeleton and it is a classification of real world entity.\n",
    "# Object-->Object is the real world entity and it is the instance of class\n",
    "\n",
    "# Example-\n",
    "class Car: #This is class\n",
    "    \n",
    "    def car_name(self):\n",
    "        return \"Swift Dzire\"\n",
    "\n"
   ]
  },
  {
   "cell_type": "code",
   "execution_count": 5,
   "id": "cbdb3c55-490d-4916-8fb0-ec78277c3c8f",
   "metadata": {},
   "outputs": [],
   "source": [
    "obj=Car() #This is object of class Car"
   ]
  },
  {
   "cell_type": "code",
   "execution_count": 7,
   "id": "6736d8c8-1351-4ddd-9304-c3189b31b345",
   "metadata": {},
   "outputs": [
    {
     "data": {
      "text/plain": [
       "'Swift Dzire'"
      ]
     },
     "execution_count": 7,
     "metadata": {},
     "output_type": "execute_result"
    }
   ],
   "source": [
    "obj.car_name()"
   ]
  },
  {
   "cell_type": "code",
   "execution_count": 8,
   "id": "f2b64c80-ed0b-450f-b8e7-ec36700e7b74",
   "metadata": {},
   "outputs": [],
   "source": [
    "# Q2. Name the four pillars of OOPs."
   ]
  },
  {
   "cell_type": "code",
   "execution_count": 9,
   "id": "d1619a19-81d4-4801-bb82-6bcd89654ebc",
   "metadata": {},
   "outputs": [],
   "source": [
    "# Ans2-\n",
    "# The four pillars of OOPs-\n",
    "# 1-Polymorphism\n",
    "# 2-Encapsulation\n",
    "# 3-Inheritance\n",
    "# 4-Abstraction"
   ]
  },
  {
   "cell_type": "code",
   "execution_count": 10,
   "id": "a05783d2-c113-4d3f-8b83-9c0104d25c56",
   "metadata": {},
   "outputs": [],
   "source": [
    "# Q3. Explain why the __init__() function is used. Give a suitable example."
   ]
  },
  {
   "cell_type": "code",
   "execution_count": 11,
   "id": "c34dc81c-91f4-4a4b-98ac-c3c95d86191f",
   "metadata": {},
   "outputs": [],
   "source": [
    "# Ans3-\n",
    "# __init__() function is used to pass value inside instance or method of class.\n",
    "# It is a constructor\n",
    "\n",
    "# Example-\n",
    "\n",
    "class student_details:\n",
    "    def __init__(self,name,std_id):\n",
    "        self.name=name\n",
    "        self.std_id=std_id"
   ]
  },
  {
   "cell_type": "code",
   "execution_count": 13,
   "id": "34a83d29-5e20-42e5-a890-6a67d117a5b3",
   "metadata": {},
   "outputs": [],
   "source": [
    "obj=student_details('Ashutosh',10)"
   ]
  },
  {
   "cell_type": "code",
   "execution_count": 15,
   "id": "8f35a353-93af-40c1-aba4-37ad8e2f7746",
   "metadata": {},
   "outputs": [
    {
     "data": {
      "text/plain": [
       "'Ashutosh'"
      ]
     },
     "execution_count": 15,
     "metadata": {},
     "output_type": "execute_result"
    }
   ],
   "source": [
    "obj.name"
   ]
  },
  {
   "cell_type": "code",
   "execution_count": 16,
   "id": "bd8d8d28-8907-4e7a-a689-69f941b33651",
   "metadata": {},
   "outputs": [
    {
     "data": {
      "text/plain": [
       "10"
      ]
     },
     "execution_count": 16,
     "metadata": {},
     "output_type": "execute_result"
    }
   ],
   "source": [
    "obj.std_id"
   ]
  },
  {
   "cell_type": "code",
   "execution_count": 17,
   "id": "249a23f6-c938-464a-b1ca-620a3a8c7bda",
   "metadata": {},
   "outputs": [],
   "source": [
    "# Q4. Why self is used in OOPs?"
   ]
  },
  {
   "cell_type": "code",
   "execution_count": 21,
   "id": "65aca3b5-7548-484d-9997-dcadce8c1d88",
   "metadata": {},
   "outputs": [],
   "source": [
    "# Ans4-Self is used as pointer this is connect method to the class and \n",
    "# which bind method to the class so class know the method we make is also part of class."
   ]
  },
  {
   "cell_type": "code",
   "execution_count": 19,
   "id": "b70857ae-0e75-4958-ac7b-081c9fd0bb32",
   "metadata": {},
   "outputs": [],
   "source": [
    "# Q5.What is inheritance? Give an example for each type of inheritance."
   ]
  },
  {
   "cell_type": "code",
   "execution_count": 20,
   "id": "9e23f4c9-c768-4030-800d-22b1905524b5",
   "metadata": {},
   "outputs": [],
   "source": [
    "# Ans5-\n",
    "# Inheritance means one class inherited properties,behaviour,methods from another class\n",
    "# is called inheritance.\n",
    "\n",
    "# Types-\n",
    "# 1-Single inheritance\n",
    "# 2-Multilevel inheritance\n",
    "# 3-Multiple inheritance\n",
    "# 4-Hierarchical inheritance\n",
    "# 5-Hybrid inheritance"
   ]
  },
  {
   "cell_type": "raw",
   "id": "ab0e7526-5b37-4c74-ba6b-df15bad16f0c",
   "metadata": {},
   "source": [
    "Example of Single inheritance"
   ]
  },
  {
   "cell_type": "code",
   "execution_count": 22,
   "id": "5ef704b8-8ef0-4c96-84d4-a87fdcb7307c",
   "metadata": {},
   "outputs": [],
   "source": [
    "class Parent:\n",
    "    def parent_info(self):\n",
    "        return \"This is Parent class\"\n",
    "\n",
    "class child(Parent):\n",
    "    def child_info(self):\n",
    "        return \"This is Child class\""
   ]
  },
  {
   "cell_type": "code",
   "execution_count": 23,
   "id": "8cfde7d0-6311-4516-8d3d-a475da04d6d3",
   "metadata": {},
   "outputs": [],
   "source": [
    "child_obj=child()"
   ]
  },
  {
   "cell_type": "code",
   "execution_count": 25,
   "id": "98bab706-ae78-4cb7-92df-0c41931fcf3f",
   "metadata": {},
   "outputs": [
    {
     "data": {
      "text/plain": [
       "'This is Child class'"
      ]
     },
     "execution_count": 25,
     "metadata": {},
     "output_type": "execute_result"
    }
   ],
   "source": [
    "child_obj.child_info()"
   ]
  },
  {
   "cell_type": "code",
   "execution_count": 26,
   "id": "d05b35bc-58af-4534-af9e-3468c525d1ff",
   "metadata": {},
   "outputs": [
    {
     "data": {
      "text/plain": [
       "'This is Parent class'"
      ]
     },
     "execution_count": 26,
     "metadata": {},
     "output_type": "execute_result"
    }
   ],
   "source": [
    "child_obj.parent_info()"
   ]
  },
  {
   "cell_type": "raw",
   "id": "98f0eb66-2115-42b5-b280-b0aef093f038",
   "metadata": {},
   "source": [
    "Example of Multilevel inheritance"
   ]
  },
  {
   "cell_type": "code",
   "execution_count": 38,
   "id": "2028b330-03a7-4ab5-90dd-1453817a0572",
   "metadata": {},
   "outputs": [],
   "source": [
    "class Parent:\n",
    "    def parent_info(self):\n",
    "        return \"This is Parent class\"\n",
    "\n",
    "class child1(Parent):\n",
    "    def child1_info(self):\n",
    "        return \"This is Child1 class\"\n",
    "    \n",
    "class child2(child1):\n",
    "    def child2_info(self):\n",
    "        return \"This is Child2 class\""
   ]
  },
  {
   "cell_type": "code",
   "execution_count": 39,
   "id": "1f162193-d60c-45e8-a0ae-a19a668d0033",
   "metadata": {},
   "outputs": [],
   "source": [
    "child1_obj=child1()"
   ]
  },
  {
   "cell_type": "code",
   "execution_count": 41,
   "id": "fb5bc39d-e312-4057-aad0-61a5837e7b61",
   "metadata": {},
   "outputs": [
    {
     "data": {
      "text/plain": [
       "'This is Parent class'"
      ]
     },
     "execution_count": 41,
     "metadata": {},
     "output_type": "execute_result"
    }
   ],
   "source": [
    "child1_obj.parent_info()"
   ]
  },
  {
   "cell_type": "code",
   "execution_count": 31,
   "id": "6456ea33-9825-47df-961a-77279f1f1fcb",
   "metadata": {},
   "outputs": [],
   "source": [
    "child2_obj=child2()"
   ]
  },
  {
   "cell_type": "code",
   "execution_count": 32,
   "id": "b8dfb351-9871-4240-936d-b6855197c810",
   "metadata": {},
   "outputs": [
    {
     "data": {
      "text/plain": [
       "'This is Child2 class'"
      ]
     },
     "execution_count": 32,
     "metadata": {},
     "output_type": "execute_result"
    }
   ],
   "source": [
    "child2_obj.child2_info()"
   ]
  },
  {
   "cell_type": "code",
   "execution_count": 33,
   "id": "ab1f9760-10bf-4262-b473-931cdb43dacb",
   "metadata": {},
   "outputs": [
    {
     "data": {
      "text/plain": [
       "'This is Parent class'"
      ]
     },
     "execution_count": 33,
     "metadata": {},
     "output_type": "execute_result"
    }
   ],
   "source": [
    "child2_obj.parent_info()"
   ]
  },
  {
   "cell_type": "code",
   "execution_count": 34,
   "id": "7684b7b1-eae6-42ab-94f2-96a695729aa0",
   "metadata": {},
   "outputs": [
    {
     "data": {
      "text/plain": [
       "'This is Child1 class'"
      ]
     },
     "execution_count": 34,
     "metadata": {},
     "output_type": "execute_result"
    }
   ],
   "source": [
    "child2_obj.child1_info()"
   ]
  },
  {
   "cell_type": "raw",
   "id": "ba9767b1-0396-475c-a4eb-c666b229dede",
   "metadata": {},
   "source": [
    "Example of Multiple inheritance"
   ]
  },
  {
   "cell_type": "code",
   "execution_count": 35,
   "id": "740a4ccb-eb0a-40c1-99b8-e607fc6f73ec",
   "metadata": {},
   "outputs": [],
   "source": [
    "class Parent:\n",
    "    def parent_info(self):\n",
    "        return \"This is Parent class\"\n",
    "\n",
    "class child1:\n",
    "    def child1_info(self):\n",
    "        return \"This is Child1 class\"\n",
    "    \n",
    "class child2(child1,Parent):\n",
    "    def child2_info(self):\n",
    "        return \"This is Child2 class\""
   ]
  },
  {
   "cell_type": "code",
   "execution_count": 36,
   "id": "317f912c-4995-4bf3-a3b0-bafb338b6df5",
   "metadata": {},
   "outputs": [],
   "source": [
    "child2_obj=child2()"
   ]
  },
  {
   "cell_type": "code",
   "execution_count": 43,
   "id": "9e9b8ed5-d835-4fc4-a19b-79c483f0d5c8",
   "metadata": {},
   "outputs": [
    {
     "data": {
      "text/plain": [
       "'This is Child1 class'"
      ]
     },
     "execution_count": 43,
     "metadata": {},
     "output_type": "execute_result"
    }
   ],
   "source": [
    "child2_obj.child1_info()"
   ]
  },
  {
   "cell_type": "code",
   "execution_count": 44,
   "id": "119181db-0513-4559-9683-12f213ebd3d7",
   "metadata": {},
   "outputs": [
    {
     "data": {
      "text/plain": [
       "'This is Child2 class'"
      ]
     },
     "execution_count": 44,
     "metadata": {},
     "output_type": "execute_result"
    }
   ],
   "source": [
    "child2_obj.child2_info()"
   ]
  },
  {
   "cell_type": "code",
   "execution_count": 45,
   "id": "c4a42315-a4f7-44e0-9fd0-cb32885f1321",
   "metadata": {},
   "outputs": [
    {
     "data": {
      "text/plain": [
       "'This is Parent class'"
      ]
     },
     "execution_count": 45,
     "metadata": {},
     "output_type": "execute_result"
    }
   ],
   "source": [
    "child2_obj.parent_info()"
   ]
  },
  {
   "cell_type": "raw",
   "id": "36aaf1fc-5db8-46d8-bc3d-99d72b5dc044",
   "metadata": {},
   "source": [
    "Example of Hierarchical inheritance"
   ]
  },
  {
   "cell_type": "code",
   "execution_count": 46,
   "id": "fca9f227-8bf9-4aaf-9363-c2da7099f3e1",
   "metadata": {},
   "outputs": [],
   "source": [
    "class Parent:\n",
    "    def parent_info(self):\n",
    "        return \"This is Parent class\"\n",
    "\n",
    "class child1(Parent):\n",
    "    def child1_info(self):\n",
    "        return \"This is Child1 class\"\n",
    "    \n",
    "class child2(Parent):\n",
    "    def child2_info(self):\n",
    "        return \"This is Child2 class\""
   ]
  },
  {
   "cell_type": "code",
   "execution_count": 47,
   "id": "f0011d67-13f4-4828-99bb-df4ae3178b60",
   "metadata": {},
   "outputs": [],
   "source": [
    "child1_obj=child1()\n",
    "child2_obj=child2()"
   ]
  },
  {
   "cell_type": "code",
   "execution_count": 48,
   "id": "f54db259-8609-429c-9d18-77b74cb3e2be",
   "metadata": {},
   "outputs": [
    {
     "data": {
      "text/plain": [
       "'This is Parent class'"
      ]
     },
     "execution_count": 48,
     "metadata": {},
     "output_type": "execute_result"
    }
   ],
   "source": [
    "child1_obj.parent_info()"
   ]
  },
  {
   "cell_type": "code",
   "execution_count": 49,
   "id": "a9285a5c-4d6a-4ad2-b978-5db27d707764",
   "metadata": {},
   "outputs": [
    {
     "data": {
      "text/plain": [
       "'This is Parent class'"
      ]
     },
     "execution_count": 49,
     "metadata": {},
     "output_type": "execute_result"
    }
   ],
   "source": [
    "child2_obj.parent_info()"
   ]
  },
  {
   "cell_type": "raw",
   "id": "4e04c6d9-399f-40bb-8b8d-df7bbeebdf7d",
   "metadata": {},
   "source": [
    "Example of Hybrid inheritance"
   ]
  },
  {
   "cell_type": "code",
   "execution_count": 50,
   "id": "d22d1068-0d9e-4955-a2bc-2dfcb054c972",
   "metadata": {},
   "outputs": [],
   "source": [
    "class Parent:\n",
    "    def parent_info(self):\n",
    "        return \"This is Parent class\"\n",
    "\n",
    "class child1(Parent):                           #Single inheritance\n",
    "    def child1_info(self):\n",
    "        return \"This is Child1 class\"\n",
    "    \n",
    "class child2(child1,Parent):                   #Multiple inheritance\n",
    "    def child2_info(self):\n",
    "        return \"This is Child2 class\" "
   ]
  },
  {
   "cell_type": "code",
   "execution_count": 51,
   "id": "a6fe0c33-36bb-4dae-84f8-216e20e75926",
   "metadata": {},
   "outputs": [],
   "source": [
    "child1_obj=child1()\n",
    "child2_obj=child2()"
   ]
  },
  {
   "cell_type": "code",
   "execution_count": 52,
   "id": "53cfc317-6b20-4cd4-9327-7cc9c32a5045",
   "metadata": {},
   "outputs": [
    {
     "data": {
      "text/plain": [
       "'This is Parent class'"
      ]
     },
     "execution_count": 52,
     "metadata": {},
     "output_type": "execute_result"
    }
   ],
   "source": [
    "child1_obj.parent_info()"
   ]
  },
  {
   "cell_type": "code",
   "execution_count": 53,
   "id": "8517bf4a-4b10-4c55-a0c9-951b72dd6ddf",
   "metadata": {},
   "outputs": [
    {
     "data": {
      "text/plain": [
       "'This is Child1 class'"
      ]
     },
     "execution_count": 53,
     "metadata": {},
     "output_type": "execute_result"
    }
   ],
   "source": [
    "child2_obj.child1_info()"
   ]
  },
  {
   "cell_type": "code",
   "execution_count": 54,
   "id": "7484e812-784a-449f-bd02-dd1c015b929a",
   "metadata": {},
   "outputs": [
    {
     "data": {
      "text/plain": [
       "'This is Parent class'"
      ]
     },
     "execution_count": 54,
     "metadata": {},
     "output_type": "execute_result"
    }
   ],
   "source": [
    "child2_obj.parent_info()"
   ]
  },
  {
   "cell_type": "code",
   "execution_count": 55,
   "id": "550e9740-3618-4773-bd2f-09265e2f05f0",
   "metadata": {},
   "outputs": [
    {
     "data": {
      "text/plain": [
       "'This is Child2 class'"
      ]
     },
     "execution_count": 55,
     "metadata": {},
     "output_type": "execute_result"
    }
   ],
   "source": [
    "child2_obj.child2_info()"
   ]
  },
  {
   "cell_type": "code",
   "execution_count": null,
   "id": "fa1f785a-1c5b-408c-8ea0-cafa899c428b",
   "metadata": {},
   "outputs": [],
   "source": []
  }
 ],
 "metadata": {
  "kernelspec": {
   "display_name": "Python 3 (ipykernel)",
   "language": "python",
   "name": "python3"
  },
  "language_info": {
   "codemirror_mode": {
    "name": "ipython",
    "version": 3
   },
   "file_extension": ".py",
   "mimetype": "text/x-python",
   "name": "python",
   "nbconvert_exporter": "python",
   "pygments_lexer": "ipython3",
   "version": "3.10.8"
  }
 },
 "nbformat": 4,
 "nbformat_minor": 5
}
