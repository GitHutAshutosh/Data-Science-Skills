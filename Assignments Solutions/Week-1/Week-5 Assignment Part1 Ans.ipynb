{
 "cells": [
  {
   "cell_type": "markdown",
   "id": "55196d43-ae30-4cfc-bfff-4a187cb28ff4",
   "metadata": {},
   "source": [
    "Week-5 Assignment Part1 Solutions"
   ]
  },
  {
   "cell_type": "code",
   "execution_count": 1,
   "id": "c6e15226-9618-4ffd-8159-bca5372a1597",
   "metadata": {},
   "outputs": [],
   "source": [
    "# Q1.What is an Exception in Python?Write the difference between Exceptions and Syntax errors"
   ]
  },
  {
   "cell_type": "code",
   "execution_count": 2,
   "id": "dd46d620-e532-4e15-b650-c6ef4ae2f54d",
   "metadata": {},
   "outputs": [],
   "source": [
    "# Ans-1\n",
    "# Exception-->Exception is comes during run-time error it occurs due to incorrect of \n",
    "# implementation logic\n",
    "\n",
    "# Difference between Exception and Syntax Errors\n",
    "# 1-Exception error we can recover and handle.\n",
    "# 2-But Syntax error we cant recover we need to correct this by writing correct syntax"
   ]
  },
  {
   "cell_type": "code",
   "execution_count": 3,
   "id": "3414767c-3903-4be0-a835-d69f86c4bd7a",
   "metadata": {},
   "outputs": [],
   "source": [
    "# Q2.What happens when an exception is not handled?Explain with an example."
   ]
  },
  {
   "cell_type": "code",
   "execution_count": 5,
   "id": "ed54ca1e-9572-4aca-99ef-b0d0ab9096b3",
   "metadata": {},
   "outputs": [
    {
     "ename": "ZeroDivisionError",
     "evalue": "division by zero",
     "output_type": "error",
     "traceback": [
      "\u001b[0;31m---------------------------------------------------------------------------\u001b[0m",
      "\u001b[0;31mZeroDivisionError\u001b[0m                         Traceback (most recent call last)",
      "Cell \u001b[0;32mIn[5], line 8\u001b[0m\n\u001b[1;32m      6\u001b[0m a\u001b[38;5;241m=\u001b[39m\u001b[38;5;241m10\u001b[39m\n\u001b[1;32m      7\u001b[0m b\u001b[38;5;241m=\u001b[39m\u001b[38;5;241m0\u001b[39m\n\u001b[0;32m----> 8\u001b[0m c\u001b[38;5;241m=\u001b[39m\u001b[43ma\u001b[49m\u001b[38;5;241;43m/\u001b[39;49m\u001b[43mb\u001b[49m\n\u001b[1;32m      9\u001b[0m \u001b[38;5;28mprint\u001b[39m(c)\n\u001b[1;32m     10\u001b[0m d\u001b[38;5;241m=\u001b[39ma\u001b[38;5;241m+\u001b[39mb\n",
      "\u001b[0;31mZeroDivisionError\u001b[0m: division by zero"
     ]
    }
   ],
   "source": [
    "# Ans-2\n",
    "# If we cannot use exeception then if in any step of our code we have error then it will stop\n",
    "# there without showing next step output.\n",
    "# So we use exception to not stop whole code implementation.\n",
    "\n",
    "a=10\n",
    "b=0\n",
    "c=a/b\n",
    "print(c)\n",
    "d=a+b\n",
    "print(d)"
   ]
  },
  {
   "cell_type": "raw",
   "id": "d8811210-7284-4fd1-b243-b35c7388ebea",
   "metadata": {},
   "source": [
    "So we clear se here we dont use exception so it shows error and not move to next step."
   ]
  },
  {
   "cell_type": "code",
   "execution_count": 6,
   "id": "df5b74ee-848c-4a90-b108-e7a664a75934",
   "metadata": {},
   "outputs": [],
   "source": [
    "# Q3.Which Python statements are used to catch and handle exceptions?Explain with an example"
   ]
  },
  {
   "cell_type": "code",
   "execution_count": 7,
   "id": "e14b5a7c-3ca9-41f3-8170-85b24402d973",
   "metadata": {},
   "outputs": [
    {
     "name": "stdout",
     "output_type": "stream",
     "text": [
      "division by zero\n",
      "10\n"
     ]
    }
   ],
   "source": [
    "# Ans-3\n",
    "try:\n",
    "    a=10\n",
    "    b=0\n",
    "    c=a/b\n",
    "except ZeroDivisionError as e:\n",
    "    print(e)\n",
    "print(a+b)"
   ]
  },
  {
   "cell_type": "code",
   "execution_count": 8,
   "id": "73c6f5da-8aad-4634-ac06-cf970f9a62e5",
   "metadata": {},
   "outputs": [],
   "source": [
    "# Q4.Explain with an example:\n",
    "# a.try and else\n",
    "# b.finally\n",
    "# c.raise"
   ]
  },
  {
   "cell_type": "code",
   "execution_count": 6,
   "id": "25684f7c-2ba6-497b-aa35-c6a11c2fda35",
   "metadata": {},
   "outputs": [
    {
     "name": "stdout",
     "output_type": "stream",
     "text": [
      "\n",
      "File is succefully created\n"
     ]
    }
   ],
   "source": [
    "# a-try and else\n",
    "\n",
    "try:\n",
    "    with open(\"test4.txt\",\"r\") as f:\n",
    "        print(f.read())\n",
    "    \n",
    "except FileNotFoundError as e:\n",
    "    print(e)\n",
    "    \n",
    "else:\n",
    "    print(\"File is succefully created\")\n"
   ]
  },
  {
   "cell_type": "code",
   "execution_count": 9,
   "id": "6b58fbea-a602-4f99-9360-671fb5da5482",
   "metadata": {},
   "outputs": [
    {
     "name": "stdout",
     "output_type": "stream",
     "text": [
      "[Errno 2] No such file or directory: 'test6.txt'\n",
      "finally block run always it does not depend on try and except block\n"
     ]
    }
   ],
   "source": [
    "#b-finally\n",
    "try:\n",
    "    with open(\"test6.txt\",\"r\") as f:\n",
    "        f.write(\"This is my test4\")\n",
    "        \n",
    "except FileNotFoundError as e:\n",
    "    print(e)\n",
    "    \n",
    "finally:\n",
    "    print(\"finally block run always it does not depend on try and except block\")\n",
    "    "
   ]
  },
  {
   "cell_type": "code",
   "execution_count": 5,
   "id": "2f85db03-c503-42b8-9551-d0d009f59541",
   "metadata": {},
   "outputs": [],
   "source": [
    "#c-raise\n",
    "\n",
    "class number_class(Exception):\n",
    "    \n",
    "    def __init__(self,msg):\n",
    "        self.msg=msg\n"
   ]
  },
  {
   "cell_type": "code",
   "execution_count": 6,
   "id": "674f173a-0851-4ca7-830b-dd092ded8048",
   "metadata": {},
   "outputs": [],
   "source": [
    "def number_pos(number):\n",
    "    if number<0:\n",
    "        raise number_class(\"Number is negative..Pls enter Positive number\")\n",
    "        \n",
    "    else:\n",
    "        print(\"Number is positive\")"
   ]
  },
  {
   "cell_type": "code",
   "execution_count": 7,
   "id": "cfe25509-9014-48e6-91a1-27b37e0e7447",
   "metadata": {},
   "outputs": [
    {
     "name": "stdin",
     "output_type": "stream",
     "text": [
      "Enter your number: -98\n"
     ]
    },
    {
     "name": "stdout",
     "output_type": "stream",
     "text": [
      "Exception Occur due to Negative number Number is negative..Pls enter Positive number\n"
     ]
    }
   ],
   "source": [
    "try:\n",
    "    number=int(input(\"Enter your number:\"))\n",
    "    number_pos(number)\n",
    "except number_class as e:\n",
    "               print(\"Exception Occur due to Negative number\",e)\n"
   ]
  },
  {
   "cell_type": "code",
   "execution_count": 8,
   "id": "360fa128-0f52-40f7-a557-1b84b2ab8e76",
   "metadata": {},
   "outputs": [],
   "source": [
    "# Q5.What are Custom Exceptions in python? Why do we need Custom Exceptions?Explain with an example."
   ]
  },
  {
   "cell_type": "code",
   "execution_count": 10,
   "id": "daf87115-fb2e-42f4-8504-0a4dfdb77190",
   "metadata": {},
   "outputs": [],
   "source": [
    "# Ans-5\n",
    "# Custom Exception--> If we get any error and we dont have that error in our Exception super\n",
    "# class so that time we use Custom Exception to raise exception by yourself by making class of this\n",
    "# and inherited Exception super class in that class which we create.\n",
    "\n",
    "# Why we used Custom Exceptions?\n",
    "# Because if we dont use this and  error comes and we also dont have that error in Exception super class \n",
    "# then it shows \n",
    "# error what we have so thats why we need to use this to get exception error and handle those exception\n",
    "# which we dont have in Exception Super class by using Custom Class."
   ]
  },
  {
   "cell_type": "code",
   "execution_count": 11,
   "id": "f7665c16-2488-4daf-aa4f-f0fcaa7fcaa1",
   "metadata": {},
   "outputs": [
    {
     "name": "stdin",
     "output_type": "stream",
     "text": [
      "Enter your number: -90\n"
     ]
    },
    {
     "name": "stdout",
     "output_type": "stream",
     "text": [
      "Exception Occur due to Negative number Number is negative..Pls enter Positive number\n"
     ]
    }
   ],
   "source": [
    "# Example of Custom Exceptions\n",
    "\n",
    "class number_class(Exception):\n",
    "    \n",
    "    def __init__(self,msg):\n",
    "        self.msg=msg\n",
    "\n",
    "def number_pos(number):\n",
    "    if number<0:\n",
    "        raise number_class(\"Number is negative..Pls enter Positive number\")\n",
    "        \n",
    "    else:\n",
    "        print(\"Number is positive\")\n",
    "        \n",
    "try:\n",
    "    number=int(input(\"Enter your number:\"))\n",
    "    number_pos(number)\n",
    "except number_class as e:\n",
    "    print(\"Exception Occur due to Negative number\",e)\n"
   ]
  },
  {
   "cell_type": "code",
   "execution_count": 12,
   "id": "ca03adc1-00a8-4fe5-9efd-07d0c5871983",
   "metadata": {},
   "outputs": [],
   "source": [
    "# Q6.Create a custom exception class.Use this class to handle an Exception"
   ]
  },
  {
   "cell_type": "code",
   "execution_count": 17,
   "id": "5445243d-7d37-4178-8509-1b3860c46e99",
   "metadata": {},
   "outputs": [],
   "source": [
    "# Ans-6\n",
    "#Custom Exception Class\n",
    "class number_class(Exception):\n",
    "    \n",
    "    def __init__(self,msg):\n",
    "        self.msg=msg\n"
   ]
  },
  {
   "cell_type": "code",
   "execution_count": null,
   "id": "7e92e7e6-8c13-4e3b-8ea7-0427fce844a8",
   "metadata": {},
   "outputs": [],
   "source": [
    "def number_pos(number):\n",
    "    if number<0:\n",
    "        raise number_class(\"Number is negative..Pls enter Positive number\")\n",
    "        \n",
    "    else:\n",
    "        print(\"Number is positive\")\n",
    "#Here we handle Exception using that class     \n",
    "try:\n",
    "    number=int(input(\"Enter your number:\"))\n",
    "    number_pos(number)\n",
    "except number_class as e:\n",
    "    print(\"Error Occur\",e)"
   ]
  },
  {
   "cell_type": "code",
   "execution_count": null,
   "id": "d105a81e-0c83-4fc5-a9db-d361f81fb5b7",
   "metadata": {},
   "outputs": [],
   "source": []
  }
 ],
 "metadata": {
  "kernelspec": {
   "display_name": "Python 3 (ipykernel)",
   "language": "python",
   "name": "python3"
  },
  "language_info": {
   "codemirror_mode": {
    "name": "ipython",
    "version": 3
   },
   "file_extension": ".py",
   "mimetype": "text/x-python",
   "name": "python",
   "nbconvert_exporter": "python",
   "pygments_lexer": "ipython3",
   "version": "3.10.8"
  }
 },
 "nbformat": 4,
 "nbformat_minor": 5
}
