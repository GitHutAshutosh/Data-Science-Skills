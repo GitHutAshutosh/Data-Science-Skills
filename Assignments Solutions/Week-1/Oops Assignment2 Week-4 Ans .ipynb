{
 "cells": [
  {
   "cell_type": "code",
   "execution_count": 1,
   "id": "78b55d03-8a21-4583-8967-35b77b48d9b5",
   "metadata": {},
   "outputs": [],
   "source": [
    "# Q1. What is Abstraction in OOps? Explain with an example."
   ]
  },
  {
   "cell_type": "code",
   "execution_count": 7,
   "id": "06893174-f898-4a21-8b72-f7e7d7ad881b",
   "metadata": {},
   "outputs": [],
   "source": [
    "# Ans-1\n",
    "# Abstraction is the process of hiding implementation from the user and only shows \n",
    "# set of services to the user\n",
    "\n",
    "# Example-\n",
    "\n",
    "import abc\n",
    "class Student_details:\n",
    "    \n",
    "    \n",
    "    @abc.abstractmethod\n",
    "    def student_name():\n",
    "        pass\n",
    "    @abc.abstractmethod\n",
    "    def student_id():\n",
    "        pass\n",
    "    "
   ]
  },
  {
   "cell_type": "code",
   "execution_count": 15,
   "id": "d75bc0db-fdce-43d2-83cc-4550c482cea7",
   "metadata": {},
   "outputs": [],
   "source": [
    "class student1(Student_details):\n",
    "    def student_name(self):\n",
    "        return \"Ashu\"\n",
    "    def student_id(self):\n",
    "        return 10\n",
    "    "
   ]
  },
  {
   "cell_type": "code",
   "execution_count": 16,
   "id": "20f3b7c0-e972-4276-bd6c-501923c912e4",
   "metadata": {},
   "outputs": [],
   "source": [
    "class student2(Student_details):\n",
    "    def student_name(self):\n",
    "        return \"Monal\"\n",
    "    def student_id(self):\n",
    "        return 5"
   ]
  },
  {
   "cell_type": "code",
   "execution_count": 17,
   "id": "15978e41-62f4-419e-906b-083d50a58a34",
   "metadata": {},
   "outputs": [],
   "source": [
    "std1=student1()\n",
    "std2=student2()"
   ]
  },
  {
   "cell_type": "code",
   "execution_count": 18,
   "id": "d2e805f6-4948-470c-aeba-215222e0f0d6",
   "metadata": {},
   "outputs": [
    {
     "data": {
      "text/plain": [
       "'Ashu'"
      ]
     },
     "execution_count": 18,
     "metadata": {},
     "output_type": "execute_result"
    }
   ],
   "source": [
    "std1.student_name()"
   ]
  },
  {
   "cell_type": "code",
   "execution_count": 20,
   "id": "5e8f71ab-0ad8-4540-ab68-1b9c2241ca76",
   "metadata": {},
   "outputs": [
    {
     "data": {
      "text/plain": [
       "10"
      ]
     },
     "execution_count": 20,
     "metadata": {},
     "output_type": "execute_result"
    }
   ],
   "source": [
    "std1.student_id()"
   ]
  },
  {
   "cell_type": "code",
   "execution_count": 21,
   "id": "f2c7bf5c-e7b1-4824-986f-6a36d9444534",
   "metadata": {},
   "outputs": [
    {
     "data": {
      "text/plain": [
       "5"
      ]
     },
     "execution_count": 21,
     "metadata": {},
     "output_type": "execute_result"
    }
   ],
   "source": [
    "std2.student_id()"
   ]
  },
  {
   "cell_type": "code",
   "execution_count": 22,
   "id": "f0ff153b-fd24-4e6c-9495-9917149e715e",
   "metadata": {},
   "outputs": [
    {
     "data": {
      "text/plain": [
       "'Monal'"
      ]
     },
     "execution_count": 22,
     "metadata": {},
     "output_type": "execute_result"
    }
   ],
   "source": [
    "std2.student_name()"
   ]
  },
  {
   "cell_type": "code",
   "execution_count": 23,
   "id": "dcfc36e6-8644-4dac-84ae-1f9052d7d757",
   "metadata": {},
   "outputs": [],
   "source": [
    "# Q2. Differentiate between Abstraction and Encapsulation. Explain with an example."
   ]
  },
  {
   "cell_type": "code",
   "execution_count": 24,
   "id": "2b6466ee-3247-4b26-af5b-2480e27b080c",
   "metadata": {},
   "outputs": [],
   "source": [
    "# Ans-2\n",
    "# Abstraction-->Abstraction is the process of hiding implementation from the user and only shows \n",
    "# set of services to the user\n",
    "\n",
    "# Encapsulation-->>Its a wrapping of data and its hide private variable and we use getter and setter\n",
    "# to get and set value in private variable.\n",
    "\n",
    "# Example of Abstraction\n",
    "\n",
    "import abc\n",
    "\n",
    "class student_name:\n",
    "    \n",
    "    @abc.abstractmethod\n",
    "    def name():\n",
    "        pass\n",
    "    "
   ]
  },
  {
   "cell_type": "code",
   "execution_count": 25,
   "id": "ace2e1ff-cd41-4178-aa3a-e2195c0f35ea",
   "metadata": {},
   "outputs": [],
   "source": [
    "class student1(student_name):\n",
    "    def student_name(self):\n",
    "        return \"Ashu\""
   ]
  },
  {
   "cell_type": "code",
   "execution_count": 26,
   "id": "a1da6f1b-91ce-4684-bc89-dfbfaccacad6",
   "metadata": {},
   "outputs": [],
   "source": [
    "std1=student1()"
   ]
  },
  {
   "cell_type": "code",
   "execution_count": 27,
   "id": "6afd4733-1600-4c90-96c4-6fe23075955f",
   "metadata": {},
   "outputs": [
    {
     "data": {
      "text/plain": [
       "'Ashu'"
      ]
     },
     "execution_count": 27,
     "metadata": {},
     "output_type": "execute_result"
    }
   ],
   "source": [
    "std1.student_name()"
   ]
  },
  {
   "cell_type": "code",
   "execution_count": 60,
   "id": "01fd60ee-f550-467f-bf95-e14965f0cf65",
   "metadata": {},
   "outputs": [],
   "source": [
    "# Example of Encapsulation\n",
    "\n",
    "class student_details2:\n",
    "    def __init__(self,name,std_id):\n",
    "        self.name=name\n",
    "        self.__std_id=std_id\n",
    "    \n",
    "    def set_std_id(self,std_id):\n",
    "        self.__std_id=std_id\n",
    "    \n",
    "    def get_std_id(self):\n",
    "        return self.__std_id\n",
    "        "
   ]
  },
  {
   "cell_type": "code",
   "execution_count": 61,
   "id": "1b63c5d7-cf2b-4cc6-8a0f-6c1acfe4efed",
   "metadata": {},
   "outputs": [],
   "source": [
    "obj=student_details2('Ashu',10)"
   ]
  },
  {
   "cell_type": "code",
   "execution_count": 62,
   "id": "9670658a-efac-4b2e-98b2-542bb40abcb9",
   "metadata": {},
   "outputs": [
    {
     "data": {
      "text/plain": [
       "'Ashu'"
      ]
     },
     "execution_count": 62,
     "metadata": {},
     "output_type": "execute_result"
    }
   ],
   "source": [
    "obj.name"
   ]
  },
  {
   "cell_type": "code",
   "execution_count": 63,
   "id": "b4f8fe83-3fcf-4185-8987-ed04b9374506",
   "metadata": {},
   "outputs": [],
   "source": [
    "obj.set_std_id(16)"
   ]
  },
  {
   "cell_type": "code",
   "execution_count": 64,
   "id": "c2d46ef5-f5fe-481d-bea2-6154cfd4aba6",
   "metadata": {},
   "outputs": [
    {
     "data": {
      "text/plain": [
       "16"
      ]
     },
     "execution_count": 64,
     "metadata": {},
     "output_type": "execute_result"
    }
   ],
   "source": [
    "obj.get_std_id()"
   ]
  },
  {
   "cell_type": "code",
   "execution_count": 65,
   "id": "dcc96a89-15c0-41f5-9ea3-244803b2497a",
   "metadata": {},
   "outputs": [],
   "source": [
    "# Q3. What is abc module in python? Why is it used?"
   ]
  },
  {
   "cell_type": "code",
   "execution_count": 66,
   "id": "64c390de-21a4-4fe0-8c24-6b694d7f7f86",
   "metadata": {},
   "outputs": [],
   "source": [
    "# Ans-3\n",
    "# abc module is a library which contain all properties of abstraction so before \n",
    "# use abstract class we first import abc module.\n",
    "\n",
    "# Uses-\n",
    "# To achieve abstraction and for using abstract class and interface class we use abc module because\n",
    "# in this module include all properties of abstraction "
   ]
  },
  {
   "cell_type": "code",
   "execution_count": 67,
   "id": "f2efa49a-76a7-4d40-bf32-27dd3036c63a",
   "metadata": {},
   "outputs": [],
   "source": [
    "# Q4. How can we achieve data abstraction?"
   ]
  },
  {
   "cell_type": "code",
   "execution_count": 68,
   "id": "cae4a782-cc91-4ddb-bcac-6294103cc461",
   "metadata": {},
   "outputs": [],
   "source": [
    "# Ans-4\n",
    "# we can achieve data abstraction by using two method which is-\n",
    "# 1-Abstract class\n",
    "# 2-Interface class"
   ]
  },
  {
   "cell_type": "code",
   "execution_count": 69,
   "id": "8f4773b4-365b-4e07-9241-65a6e840d510",
   "metadata": {},
   "outputs": [],
   "source": [
    "# Q5. Can we create an instance of an abstract class? Explain your answer."
   ]
  },
  {
   "cell_type": "code",
   "execution_count": null,
   "id": "4ecc6a38-bcee-4d3a-a546-53d437a2d965",
   "metadata": {},
   "outputs": [],
   "source": [
    "# Ans-5\n",
    "# No we cant create an instance of an abstract class because abstract class is a template\n",
    "# or blueprint."
   ]
  }
 ],
 "metadata": {
  "kernelspec": {
   "display_name": "Python 3 (ipykernel)",
   "language": "python",
   "name": "python3"
  },
  "language_info": {
   "codemirror_mode": {
    "name": "ipython",
    "version": 3
   },
   "file_extension": ".py",
   "mimetype": "text/x-python",
   "name": "python",
   "nbconvert_exporter": "python",
   "pygments_lexer": "ipython3",
   "version": "3.10.8"
  }
 },
 "nbformat": 4,
 "nbformat_minor": 5
}
