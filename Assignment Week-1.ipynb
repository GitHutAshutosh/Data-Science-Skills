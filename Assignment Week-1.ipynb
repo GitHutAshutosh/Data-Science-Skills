{
 "cells": [
  {
   "cell_type": "markdown",
   "id": "2aa91dd9-66e1-423e-b945-d86d4da91cbc",
   "metadata": {},
   "source": [
    "Assignment Week-1"
   ]
  },
  {
   "cell_type": "code",
   "execution_count": 2,
   "id": "1d159852-ee75-4d2f-87e1-fc07dd34fca4",
   "metadata": {},
   "outputs": [],
   "source": [
    "# Q1. Create one variable containing following type of data:\n",
    "# (i) string\n",
    "# (ii) list\n",
    "# (iii) float\n",
    "# (iv) tuple"
   ]
  },
  {
   "cell_type": "code",
   "execution_count": 3,
   "id": "56040953-1fe1-4c4d-bfd8-f87666c65d6d",
   "metadata": {},
   "outputs": [
    {
     "name": "stdout",
     "output_type": "stream",
     "text": [
      "('Ashutosh', [1, 2, 3, 4, 5], 678.987, (1, 2, 3, 4, 5))\n"
     ]
    }
   ],
   "source": [
    "#Ans1-\n",
    "v=\"Ashutosh\",[1,2,3,4,5],678.987,(1,2,3,4,5)\n",
    "print(v)"
   ]
  },
  {
   "cell_type": "code",
   "execution_count": 4,
   "id": "4aa67e1e-d81e-4db3-9f8c-341dc1a5350c",
   "metadata": {},
   "outputs": [],
   "source": [
    "# Q2. Given are some following variables containing data:\n",
    "# (i) var1 = ‘ ‘\n",
    "# (ii) var2 = ‘[ DS , ML , Python]’\n",
    "# (iii) var3 = [ ‘DS’ , ’ML’ , ‘Python’ ]\n",
    "# (iv) var4 = 1."
   ]
  },
  {
   "cell_type": "code",
   "execution_count": 5,
   "id": "75a84874-ed87-4693-8391-a47973c1182a",
   "metadata": {},
   "outputs": [
    {
     "name": "stdout",
     "output_type": "stream",
     "text": [
      "<class 'str'>\n",
      "<class 'str'>\n",
      "<class 'list'>\n",
      "<class 'float'>\n"
     ]
    }
   ],
   "source": [
    "#Ans2-\n",
    "var1 = ''\n",
    "var2 = '[ DS , ML , Python]'\n",
    "var3 = [ 'DS' , 'ML' , 'Python' ]\n",
    "var4 = 1.\n",
    "print(type(var1))\n",
    "print(type(var2))\n",
    "print(type(var3))\n",
    "print(type(var4))"
   ]
  },
  {
   "cell_type": "code",
   "execution_count": 6,
   "id": "e9af3a12-a869-4a9d-be8f-b2d63ada656b",
   "metadata": {},
   "outputs": [],
   "source": [
    "# Q3. Explain the use of the following operators using an example:\n",
    "# (i) /\n",
    "# (ii) %\n",
    "# (iii) //\n",
    "# (iv) **"
   ]
  },
  {
   "cell_type": "code",
   "execution_count": 1,
   "id": "a0571d10-3a5f-4eb2-b3ec-87c9acf803e4",
   "metadata": {},
   "outputs": [
    {
     "name": "stdout",
     "output_type": "stream",
     "text": [
      "2.0\n",
      "1\n",
      "4\n",
      "8\n"
     ]
    }
   ],
   "source": [
    "# Ans3-(i) /\n",
    "a=10/5\n",
    "print(a)\n",
    "# (ii) %\n",
    "b=7%2\n",
    "print(b)\n",
    "# (iii) //\n",
    "c=55//13\n",
    "print(c)\n",
    "# (iv) **\n",
    "d=2**3\n",
    "print(d)"
   ]
  },
  {
   "cell_type": "code",
   "execution_count": 9,
   "id": "f454c0e4-f04d-42c8-a408-2af86355cb77",
   "metadata": {},
   "outputs": [],
   "source": [
    "# Q4.Create a list of length 10 of your choice containing multiple types of data. Using for loop print the\n",
    "# element and its data type."
   ]
  },
  {
   "cell_type": "code",
   "execution_count": 10,
   "id": "dc9580c3-e597-4361-b8f4-b3217417005b",
   "metadata": {},
   "outputs": [
    {
     "name": "stdout",
     "output_type": "stream",
     "text": [
      "2\n",
      "<class 'int'>\n",
      "3\n",
      "<class 'int'>\n",
      "4\n",
      "<class 'int'>\n",
      "5\n",
      "<class 'int'>\n",
      "Ashu\n",
      "<class 'str'>\n",
      "87.98\n",
      "<class 'float'>\n",
      "True\n",
      "<class 'bool'>\n",
      "False\n",
      "<class 'bool'>\n",
      "6\n",
      "<class 'int'>\n",
      "7\n",
      "<class 'int'>\n"
     ]
    }
   ],
   "source": [
    "#Ans4-\n",
    "l=[2,3,4,5,\"Ashu\",87.98,True,False,6,7]\n",
    "for i in l:\n",
    "    print(i)\n",
    "    print(type(i))"
   ]
  },
  {
   "cell_type": "code",
   "execution_count": null,
   "id": "4798d419-5479-4c47-807f-81f8a0989268",
   "metadata": {},
   "outputs": [],
   "source": [
    "# Q5.Using a while loop, verify if the number A is purely divisible by number B and if so then how many\n",
    "# times it can be divisible."
   ]
  },
  {
   "cell_type": "code",
   "execution_count": 5,
   "id": "1facb9f4-998e-476f-9e05-51baf93f4307",
   "metadata": {},
   "outputs": [
    {
     "name": "stdin",
     "output_type": "stream",
     "text": [
      "A: 90\n",
      "B: 3\n"
     ]
    },
    {
     "name": "stdout",
     "output_type": "stream",
     "text": [
      "2 times A is purely divisible by number B\n"
     ]
    }
   ],
   "source": [
    "#Ans5-\n",
    "A=int(input(\"A:\"))\n",
    "B=int(input(\"B:\"))\n",
    "count=0\n",
    "while A>=B and A%B==0:\n",
    "    count+=1\n",
    "    A//=B\n",
    "print(count,\"times A is purely divisible by number B\")"
   ]
  },
  {
   "cell_type": "code",
   "execution_count": 1,
   "id": "5de346ca-c878-427b-b922-2608f7f4f015",
   "metadata": {},
   "outputs": [],
   "source": [
    "# Q6. Create a list containing 25 int type data. Using for loop and if-else condition print if the element is\n",
    "# divisible by 3 or not."
   ]
  },
  {
   "cell_type": "code",
   "execution_count": 2,
   "id": "2a10b2c3-7c8a-4cfb-bf5c-70e35b289360",
   "metadata": {},
   "outputs": [
    {
     "name": "stdout",
     "output_type": "stream",
     "text": [
      "1 is not divisible by 3\n",
      "2 is not divisible by 3\n",
      "3 is divisible by 3\n",
      "4 is not divisible by 3\n",
      "5 is not divisible by 3\n",
      "6 is divisible by 3\n",
      "7 is not divisible by 3\n",
      "8 is not divisible by 3\n",
      "9 is divisible by 3\n",
      "10 is not divisible by 3\n",
      "11 is not divisible by 3\n",
      "12 is divisible by 3\n",
      "13 is not divisible by 3\n",
      "14 is not divisible by 3\n",
      "15 is divisible by 3\n",
      "16 is not divisible by 3\n",
      "17 is not divisible by 3\n",
      "18 is divisible by 3\n",
      "19 is not divisible by 3\n",
      "20 is not divisible by 3\n",
      "21 is divisible by 3\n",
      "22 is not divisible by 3\n",
      "23 is not divisible by 3\n",
      "24 is divisible by 3\n",
      "25 is not divisible by 3\n"
     ]
    }
   ],
   "source": [
    "#Ans-\n",
    "l=[1,2,3,4,5,6,7,8,9,10,11,12,13,14,15,16,17,18,19,20,21,22,23,24,25]\n",
    "for i in l:\n",
    "    if(i%3==0):\n",
    "        print(i,\"is divisible by 3\")\n",
    "    else:\n",
    "        print(i,\"is not divisible by 3\")"
   ]
  },
  {
   "cell_type": "code",
   "execution_count": 3,
   "id": "bcd440fd-69e6-4895-a9f4-f93a49432f91",
   "metadata": {},
   "outputs": [],
   "source": [
    "# Q7. What do you understand about mutable and immutable data types? Give examples for both showing\n",
    "# this property."
   ]
  },
  {
   "cell_type": "code",
   "execution_count": 4,
   "id": "e7107db8-b685-46c4-a5da-7598a20cb1da",
   "metadata": {},
   "outputs": [
    {
     "name": "stdout",
     "output_type": "stream",
     "text": [
      "[2, 3, 4, 5, 'Ashu', 78.99]\n"
     ]
    }
   ],
   "source": [
    "#Ans-\n",
    "# Mutable-We can update and reassign the value in Mutable \n",
    "# Imutable-We cannot update and reassign the value in Imutable\n",
    "\n",
    "#Mutable\n",
    "l=[2,3,4,5,\"Ashu\",78.99]\n",
    "print(l)"
   ]
  },
  {
   "cell_type": "code",
   "execution_count": 5,
   "id": "6fbb31f4-489c-40b6-b53a-edf26997328b",
   "metadata": {},
   "outputs": [
    {
     "data": {
      "text/plain": [
       "[2, 3, 4, 5, 'Khushi', 78.99]"
      ]
     },
     "execution_count": 5,
     "metadata": {},
     "output_type": "execute_result"
    }
   ],
   "source": [
    "l[4]=\"Khushi\"\n",
    "l"
   ]
  },
  {
   "cell_type": "code",
   "execution_count": 6,
   "id": "329a12fb-2608-4b02-a308-a1111d12ad23",
   "metadata": {},
   "outputs": [
    {
     "data": {
      "text/plain": [
       "'Ashu'"
      ]
     },
     "execution_count": 6,
     "metadata": {},
     "output_type": "execute_result"
    }
   ],
   "source": [
    "#Imutable\n",
    "s=\"Ashu\"\n",
    "s"
   ]
  },
  {
   "cell_type": "code",
   "execution_count": 7,
   "id": "017d4913-ab95-4d2d-91d5-14e9f2034236",
   "metadata": {},
   "outputs": [
    {
     "ename": "TypeError",
     "evalue": "'str' object does not support item assignment",
     "output_type": "error",
     "traceback": [
      "\u001b[0;31m---------------------------------------------------------------------------\u001b[0m",
      "\u001b[0;31mTypeError\u001b[0m                                 Traceback (most recent call last)",
      "Cell \u001b[0;32mIn[7], line 1\u001b[0m\n\u001b[0;32m----> 1\u001b[0m \u001b[43ms\u001b[49m\u001b[43m[\u001b[49m\u001b[38;5;241;43m1\u001b[39;49m\u001b[43m]\u001b[49m\u001b[38;5;241m=\u001b[39m\u001b[38;5;124m'\u001b[39m\u001b[38;5;124ma\u001b[39m\u001b[38;5;124m'\u001b[39m\n",
      "\u001b[0;31mTypeError\u001b[0m: 'str' object does not support item assignment"
     ]
    }
   ],
   "source": [
    "s[1]='a'"
   ]
  },
  {
   "cell_type": "code",
   "execution_count": 10,
   "id": "db86811b-b330-43b7-9811-8e0a4703fea5",
   "metadata": {},
   "outputs": [],
   "source": [
    "#It shows error because string is imutable and in imutable we cannot update and reassign the value."
   ]
  }
 ],
 "metadata": {
  "kernelspec": {
   "display_name": "Python 3 (ipykernel)",
   "language": "python",
   "name": "python3"
  },
  "language_info": {
   "codemirror_mode": {
    "name": "ipython",
    "version": 3
   },
   "file_extension": ".py",
   "mimetype": "text/x-python",
   "name": "python",
   "nbconvert_exporter": "python",
   "pygments_lexer": "ipython3",
   "version": "3.10.8"
  }
 },
 "nbformat": 4,
 "nbformat_minor": 5
}
